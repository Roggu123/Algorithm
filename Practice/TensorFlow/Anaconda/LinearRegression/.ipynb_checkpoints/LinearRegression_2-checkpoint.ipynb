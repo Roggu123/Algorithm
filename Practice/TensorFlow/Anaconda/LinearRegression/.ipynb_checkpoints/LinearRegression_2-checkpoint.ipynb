{
 "cells": [
  {
   "cell_type": "markdown",
   "metadata": {},
   "source": [
    "# 手工梯度下降"
   ]
  },
  {
   "cell_type": "code",
   "execution_count": 3,
   "metadata": {},
   "outputs": [],
   "source": [
    "# 导入相关包\n",
    "import tensorflow as tf\n",
    "import numpy as np\n",
    "from sklearn.datasets import fetch_california_housing\n",
    "from sklearn.preprocessing import StandardScaler"
   ]
  },
  {
   "cell_type": "code",
   "execution_count": 4,
   "metadata": {},
   "outputs": [],
   "source": [
    "# 下载并整理数据\n",
    "housing = fetch_california_housing()\n",
    "m,n = housing.data.shape # 获取数据的行列数\n",
    "housing_data_plus_bias = np.c_[np.ones((m,1)),housing.data] # 为数据添加偏差项，即添加y=ax+b中的b"
   ]
  },
  {
   "cell_type": "markdown",
   "metadata": {},
   "source": [
    "# 数据预处理\n",
    "## 将输入的特征向量进行了归一化（区间缩放或标准化） "
   ]
  },
  {
   "cell_type": "code",
   "execution_count": 5,
   "metadata": {},
   "outputs": [],
   "source": [
    "## 使用sklearn中的StandardScaler类可以将数据按期属性（按列进行）减去其均值，并除以其方差。\n",
    "## 得到的结果是，对于每个属性/每列来说所有数据都聚集在0附近，方差为1。\n",
    "## 好处在于可以保存训练集中的参数（均值、方差）直接使用其对象转换测试集数据\n",
    "## 先利用fit()得到scaler，scaler里面存的有计算出来的均值和方差,\n",
    "## 然后利用scaler中的均值和方差来转换X，使X标准化\n",
    "## 对数据进行归一化后，梯度下降的速度会有明显的提升\n",
    "scaler = StandardScaler().fit(housing_data_plus_bias)\n",
    "scaled_housing_data_plus_bias = scaler.transform(housing_data_plus_bias)"
   ]
  },
  {
   "cell_type": "markdown",
   "metadata": {},
   "source": [
    "## 创建计算图（转为常量，设置参数）"
   ]
  },
  {
   "cell_type": "code",
   "execution_count": 6,
   "metadata": {},
   "outputs": [
    {
     "name": "stdout",
     "output_type": "stream",
     "text": [
      "WARNING:tensorflow:From /Users/ruogulu/anaconda3/lib/python3.7/site-packages/tensorflow/python/framework/op_def_library.py:263: colocate_with (from tensorflow.python.framework.ops) is deprecated and will be removed in a future version.\n",
      "Instructions for updating:\n",
      "Colocations handled automatically by placer.\n"
     ]
    }
   ],
   "source": [
    "## 将数据转换为常量\n",
    "n_epochs = 1000\n",
    "global_learning_rate = 0.01\n",
    "X = tf.constant(scaled_housing_data_plus_bias, dtype=tf.float32, name=\"X\")\n",
    "y = tf.constant(housing.target.reshape(-1,1), dtype=tf.float32, name=\"y\") # 数据标签\n",
    "XT = tf.transpose(X)\n",
    "theta = tf.Variable(tf.random_uniform([n+1,1],-1.0,1.0),name=\"theta\")     # 参数\n",
    "y_pred =  tf.matmul(X, theta, name=\"prediction\")                          # 预测值\n",
    "error = y_pred-y                                                          # 误差\n",
    "mse = tf.reduce_mean(tf.square(error), name=\"mse\")                        # 均方误差(成本函数)\n",
    "gradient = 2/m * tf.matmul(XT, error)                                     # 梯度\n",
    "training_op = tf.assign(theta, theta-global_learning_rate*gradient)       # 训练"
   ]
  },
  {
   "cell_type": "markdown",
   "metadata": {},
   "source": [
    "## 执行会话（执行计算图节点的计算）"
   ]
  },
  {
   "cell_type": "code",
   "execution_count": 10,
   "metadata": {},
   "outputs": [
    {
     "name": "stdout",
     "output_type": "stream",
     "text": [
      "Epoch: 0 MSE= 7.8536496\n",
      "Epoch: 100 MSE= 4.9941845\n",
      "Epoch: 200 MSE= 4.8792524\n",
      "Epoch: 300 MSE= 4.858754\n",
      "Epoch: 400 MSE= 4.846935\n",
      "Epoch: 500 MSE= 4.838008\n",
      "Epoch: 600 MSE= 4.831042\n",
      "Epoch: 700 MSE= 4.825565\n",
      "Epoch: 800 MSE= 4.8212366\n",
      "Epoch: 900 MSE= 4.8178\n",
      "The best theta is [[-0.6437273 ]\n",
      " [ 0.91499436]\n",
      " [ 0.15231565]\n",
      " [-0.39398995]\n",
      " [ 0.3974812 ]\n",
      " [ 0.00659792]\n",
      " [-0.04398565]\n",
      " [-0.57503194]\n",
      " [-0.55403525]]\n"
     ]
    }
   ],
   "source": [
    "init = tf.global_variables_initializer()                                  # 添加初始化节点\n",
    "\n",
    "with tf.Session() as sess:\n",
    "    sess.run(init)\n",
    "    \n",
    "    for epoch in range(n_epochs):                                       # 逐步训练\n",
    "        if epoch%100==0:\n",
    "            print(\"Epoch:\", epoch, \"MSE=\", mse.eval())                    # 每一步均方误差\n",
    "        sess.run(training_op)                                             # 执行每一步训练，优化更新梯度\n",
    "        \n",
    "    best_theta = theta.eval()                                             # 训练完毕，返回最佳参数\n",
    "    print(\"The best theta is\", best_theta)"
   ]
  },
  {
   "cell_type": "code",
   "execution_count": null,
   "metadata": {},
   "outputs": [],
   "source": []
  }
 ],
 "metadata": {
  "kernelspec": {
   "display_name": "Python 3",
   "language": "python",
   "name": "python3"
  },
  "language_info": {
   "codemirror_mode": {
    "name": "ipython",
    "version": 3
   },
   "file_extension": ".py",
   "mimetype": "text/x-python",
   "name": "python",
   "nbconvert_exporter": "python",
   "pygments_lexer": "ipython3",
   "version": "3.7.1"
  }
 },
 "nbformat": 4,
 "nbformat_minor": 2
}
