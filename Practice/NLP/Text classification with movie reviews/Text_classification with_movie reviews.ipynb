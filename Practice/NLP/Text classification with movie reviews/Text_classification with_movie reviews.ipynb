{
 "cells": [
  {
   "cell_type": "code",
   "execution_count": 1,
   "metadata": {},
   "outputs": [
    {
     "name": "stdout",
     "output_type": "stream",
     "text": [
      "1.11.0\n"
     ]
    }
   ],
   "source": [
    "import tensorflow as tf\n",
    "from tensorflow import keras\n",
    "\n",
    "import numpy as np\n",
    "\n",
    "print(tf.__version__)"
   ]
  },
  {
   "cell_type": "code",
   "execution_count": 2,
   "metadata": {},
   "outputs": [
    {
     "name": "stdout",
     "output_type": "stream",
     "text": [
      "Downloading data from https://storage.googleapis.com/tensorflow/tf-keras-datasets/imdb.npz\n",
      "17465344/17464789 [==============================] - 38s 2us/step\n",
      "17473536/17464789 [==============================] - 38s 2us/step\n"
     ]
    }
   ],
   "source": [
    "# IMDB 数据集进行了预处理，将影评（字词序列）转换为整数序列，其中每个整数表示字典中的一个特定字词。\n",
    "imdb = keras.datasets.imdb\n",
    "# 只将数据集中频次超过10000的单词存入训练集和验证集中\n",
    "(train_data, train_labels), (test_data, test_labels) = imdb.load_data(num_words=10000)"
   ]
  },
  {
   "cell_type": "code",
   "execution_count": 3,
   "metadata": {},
   "outputs": [
    {
     "name": "stdout",
     "output_type": "stream",
     "text": [
      "Training entries: 25000, labels: 25000\n"
     ]
    }
   ],
   "source": [
    "# 2.探索数据，了解数据格式\n",
    "# 探索训练数据集，训练数据个数与标签数\n",
    "print(\"Training entries: {}, labels: {}\".format(len(train_data), len(train_labels)))"
   ]
  },
  {
   "cell_type": "code",
   "execution_count": 4,
   "metadata": {},
   "outputs": [
    {
     "name": "stdout",
     "output_type": "stream",
     "text": [
      "[1, 14, 22, 16, 43, 530, 973, 1622, 1385, 65, 458, 4468, 66, 3941, 4, 173, 36, 256, 5, 25, 100, 43, 838, 112, 50, 670, 2, 9, 35, 480, 284, 5, 150, 4, 172, 112, 167, 2, 336, 385, 39, 4, 172, 4536, 1111, 17, 546, 38, 13, 447, 4, 192, 50, 16, 6, 147, 2025, 19, 14, 22, 4, 1920, 4613, 469, 4, 22, 71, 87, 12, 16, 43, 530, 38, 76, 15, 13, 1247, 4, 22, 17, 515, 17, 12, 16, 626, 18, 2, 5, 62, 386, 12, 8, 316, 8, 106, 5, 4, 2223, 5244, 16, 480, 66, 3785, 33, 4, 130, 12, 16, 38, 619, 5, 25, 124, 51, 36, 135, 48, 25, 1415, 33, 6, 22, 12, 215, 28, 77, 52, 5, 14, 407, 16, 82, 2, 8, 4, 107, 117, 5952, 15, 256, 4, 2, 7, 3766, 5, 723, 36, 71, 43, 530, 476, 26, 400, 317, 46, 7, 4, 2, 1029, 13, 104, 88, 4, 381, 15, 297, 98, 32, 2071, 56, 26, 141, 6, 194, 7486, 18, 4, 226, 22, 21, 134, 476, 26, 480, 5, 144, 30, 5535, 18, 51, 36, 28, 224, 92, 25, 104, 4, 226, 65, 16, 38, 1334, 88, 12, 16, 283, 5, 16, 4472, 113, 103, 32, 15, 16, 5345, 19, 178, 32]\n"
     ]
    }
   ],
   "source": [
    "# 数据组成（整数？字符？浮点数？）\n",
    "# 每个样本都是一个整数数组，表示影评中的字词。每个标签都是整数值 0 或 1，其中 0 表示负面影评，1 表示正面影评。\n",
    "# 影评文本已转换为整数，其中每个整数都表示字典中的一个特定字词\n",
    "print(train_data[0])"
   ]
  },
  {
   "cell_type": "code",
   "execution_count": 5,
   "metadata": {},
   "outputs": [
    {
     "data": {
      "text/plain": [
       "(218, 189)"
      ]
     },
     "execution_count": 5,
     "metadata": {},
     "output_type": "execute_result"
    }
   ],
   "source": [
    "len(train_data[0]), len(train_data[1])"
   ]
  },
  {
   "cell_type": "code",
   "execution_count": 6,
   "metadata": {},
   "outputs": [
    {
     "name": "stdout",
     "output_type": "stream",
     "text": [
      "Downloading data from https://storage.googleapis.com/tensorflow/tf-keras-datasets/imdb_word_index.json\n",
      "1646592/1641221 [==============================] - 4s 3us/step\n",
      "1654784/1641221 [==============================] - 4s 3us/step\n"
     ]
    }
   ],
   "source": [
    "# 3.数据预处理，将数字转化为单词，统一数字大小格式\n",
    "# word_index is a dictionary mapping words to an integer index\n",
    "# word_index是一个字典，将单词映射为整数，函数get_word_index()获取词索引并赋予word_index\n",
    "word_index = imdb.get_word_index()\n",
    "\n",
    "\n",
    "# The first indices are reserved\n",
    "# k是单词，v是数字，由于字符：空，开始，未知，UNUSED已被映射为数字0-3,所以数字要加三；\n",
    "word_index = {k:(v+3) for k,v in word_index.items()}\n",
    "word_index[\"<PAD>\"] = 0\n",
    "word_index[\"<START>\"] = 1\n",
    "word_index[\"<UNK>\"] = 2  # unknown\n",
    "word_index[\"<UNUSED>\"] = 3\n",
    "# word_index中单词为键，数字为值，在reverse_word_index中反转为数字为键，单词为值\n",
    "reverse_word_index = dict([(value, key) for (key, value) in word_index.items()])\n",
    "# 函数decode_review根据数字输出单词，i表示数字\n",
    "# join加入单词，用空格分隔单词\n",
    "def decode_review(text):\n",
    "    return ' '.join([reverse_word_index.get(i, '?') for i in text])"
   ]
  },
  {
   "cell_type": "code",
   "execution_count": 7,
   "metadata": {},
   "outputs": [
    {
     "data": {
      "text/plain": [
       "u\"<START> this film was just brilliant casting location scenery story direction everyone's really suited the part they played and you could just imagine being there robert <UNK> is an amazing actor and now the same being director <UNK> father came from the same scottish island as myself so i loved the fact there was a real connection with this film the witty remarks throughout the film were great it was just brilliant so much that i bought the film as soon as it was released for <UNK> and would recommend it to everyone to watch and the fly fishing was amazing really cried at the end it was so sad and you know what they say if you cry at a film it must have been good and this definitely was also <UNK> to the two little boy's that played the <UNK> of norman and paul they were just brilliant children are often left out of the <UNK> list i think because the stars that play them all grown up are such a big profile for the whole film but these children are amazing and should be praised for what they have done don't you think the whole story was so lovely because it was true and was someone's life after all that was shared with us all\""
      ]
     },
     "execution_count": 7,
     "metadata": {},
     "output_type": "execute_result"
    }
   ],
   "source": [
    "decode_review(train_data[0])"
   ]
  },
  {
   "cell_type": "code",
   "execution_count": 8,
   "metadata": {},
   "outputs": [],
   "source": [
    "# 影评（整数数组）必须转换为张量，然后才能馈送到神经网络中\n",
    "\n",
    "# pad_sequences()将多个序列截断或补齐为相同长度。\n",
    "# 该函数将一个 num_samples 的序列（整数列表）转化为一个 2D Numpy 矩阵，其尺寸为 (num_samples, num_timesteps)。 num_timesteps 要么是给定的 maxlen 参数，要么是最长序列的长度。\n",
    "# 比 num_timesteps 短的序列将在末端以 value 值补齐。\n",
    "# 比 num_timesteps 长的序列将会被截断以满足所需要的长度。补齐或截断发生的位置分别由参数 pading 和 truncating 决定。\n",
    "# 向前补齐为默认操作。\n",
    "\n",
    "# 本例中补齐填充值为0，value=word_index[\"<PAD>\"]，补齐方式为向后补齐，padding='post'，数组长度统一为256，maxlen=256。\n",
    "train_data = keras.preprocessing.sequence.pad_sequences(train_data,\n",
    "                                                        value=word_index[\"<PAD>\"],\n",
    "                                                        padding='post',\n",
    "                                                        maxlen=256)\n",
    "\n",
    "test_data = keras.preprocessing.sequence.pad_sequences(test_data,\n",
    "                                                       value=word_index[\"<PAD>\"],\n",
    "                                                       padding='post',\n",
    "                                                       maxlen=256)"
   ]
  },
  {
   "cell_type": "code",
   "execution_count": 9,
   "metadata": {},
   "outputs": [
    {
     "data": {
      "text/plain": [
       "(256, 256)"
      ]
     },
     "execution_count": 9,
     "metadata": {},
     "output_type": "execute_result"
    }
   ],
   "source": [
    "len(train_data[0]), len(train_data[1])"
   ]
  },
  {
   "cell_type": "code",
   "execution_count": 10,
   "metadata": {},
   "outputs": [
    {
     "name": "stdout",
     "output_type": "stream",
     "text": [
      "[   1   14   22   16   43  530  973 1622 1385   65  458 4468   66 3941\n",
      "    4  173   36  256    5   25  100   43  838  112   50  670    2    9\n",
      "   35  480  284    5  150    4  172  112  167    2  336  385   39    4\n",
      "  172 4536 1111   17  546   38   13  447    4  192   50   16    6  147\n",
      " 2025   19   14   22    4 1920 4613  469    4   22   71   87   12   16\n",
      "   43  530   38   76   15   13 1247    4   22   17  515   17   12   16\n",
      "  626   18    2    5   62  386   12    8  316    8  106    5    4 2223\n",
      " 5244   16  480   66 3785   33    4  130   12   16   38  619    5   25\n",
      "  124   51   36  135   48   25 1415   33    6   22   12  215   28   77\n",
      "   52    5   14  407   16   82    2    8    4  107  117 5952   15  256\n",
      "    4    2    7 3766    5  723   36   71   43  530  476   26  400  317\n",
      "   46    7    4    2 1029   13  104   88    4  381   15  297   98   32\n",
      " 2071   56   26  141    6  194 7486   18    4  226   22   21  134  476\n",
      "   26  480    5  144   30 5535   18   51   36   28  224   92   25  104\n",
      "    4  226   65   16   38 1334   88   12   16  283    5   16 4472  113\n",
      "  103   32   15   16 5345   19  178   32    0    0    0    0    0    0\n",
      "    0    0    0    0    0    0    0    0    0    0    0    0    0    0\n",
      "    0    0    0    0    0    0    0    0    0    0    0    0    0    0\n",
      "    0    0    0    0]\n"
     ]
    }
   ],
   "source": [
    "print(train_data[0])"
   ]
  },
  {
   "cell_type": "code",
   "execution_count": 11,
   "metadata": {},
   "outputs": [
    {
     "name": "stdout",
     "output_type": "stream",
     "text": [
      "_________________________________________________________________\n",
      "Layer (type)                 Output Shape              Param #   \n",
      "=================================================================\n",
      "embedding (Embedding)        (None, None, 16)          160000    \n",
      "_________________________________________________________________\n",
      "global_average_pooling1d (Gl (None, 16)                0         \n",
      "_________________________________________________________________\n",
      "dense (Dense)                (None, 16)                272       \n",
      "_________________________________________________________________\n",
      "dense_1 (Dense)              (None, 1)                 17        \n",
      "=================================================================\n",
      "Total params: 160,289\n",
      "Trainable params: 160,289\n",
      "Non-trainable params: 0\n",
      "_________________________________________________________________\n"
     ]
    }
   ],
   "source": [
    "# 4.构建模型，设置模型的层个数，类型等\n",
    "# input shape is the vocabulary count used for the movie reviews (10,000 words)\n",
    "vocab_size = 10000 #取输入集中的1000个单词进行训练\n",
    "\n",
    "model = keras.Sequential()\n",
    "model.add(keras.layers.Embedding(vocab_size, 16)) #嵌入层，将数字转换为向量，使用word2vec模型中的skip-gram模型，用16维表示一个向量\n",
    "model.add(keras.layers.GlobalAveragePooling1D())\n",
    "model.add(keras.layers.Dense(16, activation=tf.nn.relu))\n",
    "model.add(keras.layers.Dense(1, activation=tf.nn.sigmoid))\n",
    "\n",
    "model.summary()"
   ]
  },
  {
   "cell_type": "code",
   "execution_count": 12,
   "metadata": {},
   "outputs": [],
   "source": [
    "model.compile(optimizer='adam',\n",
    "              loss='binary_crossentropy',\n",
    "              metrics=['accuracy'])"
   ]
  },
  {
   "cell_type": "code",
   "execution_count": 13,
   "metadata": {},
   "outputs": [],
   "source": [
    "x_val = train_data[:10000]\n",
    "partial_x_train = train_data[10000:]\n",
    "\n",
    "y_val = train_labels[:10000]\n",
    "partial_y_train = train_labels[10000:]"
   ]
  },
  {
   "cell_type": "code",
   "execution_count": 14,
   "metadata": {},
   "outputs": [
    {
     "name": "stderr",
     "output_type": "stream",
     "text": [
      "/usr/local/lib/python2.7/dist-packages/tensorflow/python/ops/gradients_impl.py:108: UserWarning: Converting sparse IndexedSlices to a dense Tensor of unknown shape. This may consume a large amount of memory.\n",
      "  \"Converting sparse IndexedSlices to a dense Tensor of unknown shape. \"\n"
     ]
    },
    {
     "name": "stdout",
     "output_type": "stream",
     "text": [
      "Train on 15000 samples, validate on 10000 samples\n",
      "Epoch 1/40\n",
      "15000/15000 [==============================] - 1s 82us/step - loss: 0.6924 - acc: 0.5108 - val_loss: 0.6913 - val_acc: 0.5169\n",
      "Epoch 2/40\n",
      "15000/15000 [==============================] - 1s 51us/step - loss: 0.6886 - acc: 0.5641 - val_loss: 0.6857 - val_acc: 0.6687\n",
      "Epoch 3/40\n",
      "15000/15000 [==============================] - 1s 55us/step - loss: 0.6791 - acc: 0.6831 - val_loss: 0.6732 - val_acc: 0.6951\n",
      "Epoch 4/40\n",
      "15000/15000 [==============================] - 1s 54us/step - loss: 0.6597 - acc: 0.7370 - val_loss: 0.6502 - val_acc: 0.7153\n",
      "Epoch 5/40\n",
      "15000/15000 [==============================] - 1s 53us/step - loss: 0.6284 - acc: 0.7648 - val_loss: 0.6160 - val_acc: 0.7688\n",
      "Epoch 6/40\n",
      "15000/15000 [==============================] - 1s 47us/step - loss: 0.5873 - acc: 0.7983 - val_loss: 0.5754 - val_acc: 0.8052\n",
      "Epoch 7/40\n",
      "15000/15000 [==============================] - 1s 47us/step - loss: 0.5402 - acc: 0.8258 - val_loss: 0.5317 - val_acc: 0.8184\n",
      "Epoch 8/40\n",
      "15000/15000 [==============================] - 1s 48us/step - loss: 0.4920 - acc: 0.8466 - val_loss: 0.4891 - val_acc: 0.8332\n",
      "Epoch 9/40\n",
      "15000/15000 [==============================] - 1s 49us/step - loss: 0.4470 - acc: 0.8597 - val_loss: 0.4511 - val_acc: 0.8443\n",
      "Epoch 10/40\n",
      "15000/15000 [==============================] - 1s 47us/step - loss: 0.4066 - acc: 0.8743 - val_loss: 0.4190 - val_acc: 0.8521\n",
      "Epoch 11/40\n",
      "15000/15000 [==============================] - 1s 54us/step - loss: 0.3722 - acc: 0.8825 - val_loss: 0.3949 - val_acc: 0.8556\n",
      "Epoch 12/40\n",
      "15000/15000 [==============================] - 1s 52us/step - loss: 0.3437 - acc: 0.8882 - val_loss: 0.3709 - val_acc: 0.8657\n",
      "Epoch 13/40\n",
      "15000/15000 [==============================] - 1s 52us/step - loss: 0.3178 - acc: 0.8965 - val_loss: 0.3546 - val_acc: 0.8684\n",
      "Epoch 14/40\n",
      "15000/15000 [==============================] - 1s 51us/step - loss: 0.2965 - acc: 0.9025 - val_loss: 0.3397 - val_acc: 0.8732\n",
      "Epoch 15/40\n",
      "15000/15000 [==============================] - 1s 49us/step - loss: 0.2781 - acc: 0.9072 - val_loss: 0.3285 - val_acc: 0.8758\n",
      "Epoch 16/40\n",
      "15000/15000 [==============================] - 1s 54us/step - loss: 0.2624 - acc: 0.9126 - val_loss: 0.3192 - val_acc: 0.8776\n",
      "Epoch 17/40\n",
      "15000/15000 [==============================] - 1s 58us/step - loss: 0.2473 - acc: 0.9181 - val_loss: 0.3118 - val_acc: 0.8777\n",
      "Epoch 18/40\n",
      "15000/15000 [==============================] - 1s 48us/step - loss: 0.2343 - acc: 0.9223 - val_loss: 0.3055 - val_acc: 0.8798\n",
      "Epoch 19/40\n",
      "15000/15000 [==============================] - 1s 48us/step - loss: 0.2223 - acc: 0.9257 - val_loss: 0.3004 - val_acc: 0.8815\n",
      "Epoch 20/40\n",
      "15000/15000 [==============================] - 1s 53us/step - loss: 0.2118 - acc: 0.9289 - val_loss: 0.2964 - val_acc: 0.8823\n",
      "Epoch 21/40\n",
      "15000/15000 [==============================] - 1s 54us/step - loss: 0.2016 - acc: 0.9322 - val_loss: 0.2933 - val_acc: 0.8830\n",
      "Epoch 22/40\n",
      "15000/15000 [==============================] - 1s 50us/step - loss: 0.1922 - acc: 0.9375 - val_loss: 0.2909 - val_acc: 0.8842\n",
      "Epoch 23/40\n",
      "15000/15000 [==============================] - 1s 51us/step - loss: 0.1837 - acc: 0.9411 - val_loss: 0.2898 - val_acc: 0.8839\n",
      "Epoch 24/40\n",
      "15000/15000 [==============================] - 1s 50us/step - loss: 0.1752 - acc: 0.9445 - val_loss: 0.2878 - val_acc: 0.8847\n",
      "Epoch 25/40\n",
      "15000/15000 [==============================] - 1s 49us/step - loss: 0.1677 - acc: 0.9475 - val_loss: 0.2867 - val_acc: 0.8848\n",
      "Epoch 26/40\n",
      "15000/15000 [==============================] - 1s 56us/step - loss: 0.1602 - acc: 0.9494 - val_loss: 0.2871 - val_acc: 0.8854\n",
      "Epoch 27/40\n",
      "15000/15000 [==============================] - 1s 55us/step - loss: 0.1540 - acc: 0.9531 - val_loss: 0.2874 - val_acc: 0.8859\n",
      "Epoch 28/40\n",
      "15000/15000 [==============================] - 1s 60us/step - loss: 0.1474 - acc: 0.9565 - val_loss: 0.2872 - val_acc: 0.8860\n",
      "Epoch 29/40\n",
      "15000/15000 [==============================] - 1s 65us/step - loss: 0.1413 - acc: 0.9577 - val_loss: 0.2876 - val_acc: 0.8869\n",
      "Epoch 30/40\n",
      "15000/15000 [==============================] - 1s 53us/step - loss: 0.1360 - acc: 0.9599 - val_loss: 0.2887 - val_acc: 0.8858\n",
      "Epoch 31/40\n",
      "15000/15000 [==============================] - 1s 48us/step - loss: 0.1299 - acc: 0.9623 - val_loss: 0.2904 - val_acc: 0.8857\n",
      "Epoch 32/40\n",
      "15000/15000 [==============================] - 1s 59us/step - loss: 0.1251 - acc: 0.9647 - val_loss: 0.2924 - val_acc: 0.8865\n",
      "Epoch 33/40\n",
      "15000/15000 [==============================] - 1s 57us/step - loss: 0.1194 - acc: 0.9668 - val_loss: 0.2945 - val_acc: 0.8856\n",
      "Epoch 34/40\n",
      "15000/15000 [==============================] - 1s 64us/step - loss: 0.1149 - acc: 0.9681 - val_loss: 0.2966 - val_acc: 0.8853\n",
      "Epoch 35/40\n",
      "15000/15000 [==============================] - 1s 57us/step - loss: 0.1108 - acc: 0.9692 - val_loss: 0.2985 - val_acc: 0.8849\n",
      "Epoch 36/40\n",
      "15000/15000 [==============================] - 1s 58us/step - loss: 0.1058 - acc: 0.9721 - val_loss: 0.3014 - val_acc: 0.8841\n",
      "Epoch 37/40\n",
      "15000/15000 [==============================] - 1s 53us/step - loss: 0.1019 - acc: 0.9728 - val_loss: 0.3043 - val_acc: 0.8837\n",
      "Epoch 38/40\n",
      "15000/15000 [==============================] - 1s 52us/step - loss: 0.0984 - acc: 0.9734 - val_loss: 0.3078 - val_acc: 0.8827\n",
      "Epoch 39/40\n",
      "15000/15000 [==============================] - 1s 54us/step - loss: 0.0940 - acc: 0.9755 - val_loss: 0.3105 - val_acc: 0.8822\n",
      "Epoch 40/40\n",
      "15000/15000 [==============================] - 1s 52us/step - loss: 0.0902 - acc: 0.9775 - val_loss: 0.3135 - val_acc: 0.8820\n"
     ]
    }
   ],
   "source": [
    "history = model.fit(partial_x_train,\n",
    "                    partial_y_train,\n",
    "                    epochs=40,\n",
    "                    batch_size=512,\n",
    "                    validation_data=(x_val, y_val),\n",
    "                    verbose=1)"
   ]
  },
  {
   "cell_type": "code",
   "execution_count": 15,
   "metadata": {},
   "outputs": [
    {
     "name": "stdout",
     "output_type": "stream",
     "text": [
      "25000/25000 [==============================] - 1s 39us/step\n",
      "[0.33305170640945436, 0.87256]\n"
     ]
    }
   ],
   "source": [
    "results = model.evaluate(test_data, test_labels)\n",
    "\n",
    "print(results)"
   ]
  },
  {
   "cell_type": "code",
   "execution_count": 16,
   "metadata": {},
   "outputs": [
    {
     "data": {
      "text/plain": [
       "['acc', 'loss', 'val_acc', 'val_loss']"
      ]
     },
     "execution_count": 16,
     "metadata": {},
     "output_type": "execute_result"
    }
   ],
   "source": [
    "history_dict = history.history\n",
    "history_dict.keys()"
   ]
  },
  {
   "cell_type": "code",
   "execution_count": 18,
   "metadata": {},
   "outputs": [
    {
     "data": {
      "image/png": "[encoded data removed]",
      "text/plain": [
       "<Figure size 432x288 with 1 Axes>"
      ]
     },
     "metadata": {
      "needs_background": "light"
     },
     "output_type": "display_data"
    }
   ],
   "source": [
    "import matplotlib.pyplot as plt\n",
    "\n",
    "acc = history_dict['acc']\n",
    "val_acc = history_dict['val_acc']\n",
    "loss = history_dict['loss']\n",
    "val_loss = history_dict['val_loss']\n",
    "\n",
    "epochs = range(1, len(acc) + 1)\n",
    "\n",
    "# \"bo\" is for \"blue dot\"\n",
    "plt.plot(epochs, loss, 'bo', label='Training loss')\n",
    "# b is for \"solid blue line\"\n",
    "plt.plot(epochs, val_loss, 'b', label='Validation loss')\n",
    "plt.title('Training and validation loss')\n",
    "plt.xlabel('Epochs')\n",
    "plt.ylabel('Loss')\n",
    "plt.legend()\n",
    "\n",
    "plt.show()"
   ]
  },
  {
   "cell_type": "code",
   "execution_count": 19,
   "metadata": {},
   "outputs": [
    {
     "data": {
      "image/png": "[encoded data removed]",
      "text/plain": [
       "<Figure size 432x288 with 1 Axes>"
      ]
     },
     "metadata": {
      "needs_background": "light"
     },
     "output_type": "display_data"
    }
   ],
   "source": [
    "plt.clf()   # clear figure\n",
    "\n",
    "plt.plot(epochs, acc, 'bo', label='Training acc')\n",
    "plt.plot(epochs, val_acc, 'b', label='Validation acc')\n",
    "plt.title('Training and validation accuracy')\n",
    "plt.xlabel('Epochs')\n",
    "plt.ylabel('Accuracy')\n",
    "plt.legend()\n",
    "\n",
    "plt.show()"
   ]
  },
  {
   "cell_type": "code",
   "execution_count": null,
   "metadata": {},
   "outputs": [],
   "source": []
  }
 ],
 "metadata": {
  "kernelspec": {
   "display_name": "Python 2",
   "language": "python",
   "name": "python2"
  },
  "language_info": {
   "codemirror_mode": {
    "name": "ipython",
    "version": 2
   },
   "file_extension": ".py",
   "mimetype": "text/x-python",
   "name": "python",
   "nbconvert_exporter": "python",
   "pygments_lexer": "ipython2",
   "version": "2.7.12"
  }
 },
 "nbformat": 4,
 "nbformat_minor": 2
}
